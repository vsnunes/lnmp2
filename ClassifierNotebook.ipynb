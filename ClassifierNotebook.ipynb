{
 "cells": [
  {
   "cell_type": "code",
   "execution_count": 2,
   "metadata": {},
   "outputs": [],
   "source": [
    "#http://scikit-learn.org/stable/tutorial/text_analytics/working_with_text_data.html\n",
    "\n",
    "categories_training_solutions = []\n",
    "categories_list = []\n",
    "questions_list  = []\n",
    "with open(\"corpora/QuestoesConhecidas.txt\") as corpus:\n",
    "        for line in corpus:\n",
    "            (category, question) = line.split(maxsplit = 1)\n",
    "            categories_training_solutions.append(category)\n",
    "            questions_list.append(question.rstrip())"
   ]
  },
  {
   "cell_type": "code",
   "execution_count": 3,
   "metadata": {},
   "outputs": [],
   "source": [
    "from nltk.stem.lancaster import LancasterStemmer\n",
    "def tokenizePhrase(question):\n",
    "    \"\"\"Given a question, stem the words into lexemes ignoring stopwords (of, the, etc...)\n",
    "\n",
    "    Args:\n",
    "        question: A string corresponding to the question to stem.\n",
    "\n",
    "    Returns:\n",
    "        A list of lexemes.\n",
    "        Example question: \"What is my name?\"\n",
    "        Example returned list: ['what', 'nam']\n",
    "    \"\"\"\n",
    "\n",
    "    stemmer = LancasterStemmer()\n",
    "    tokenizedWords=[]\n",
    "    for word in nltk.word_tokenize(question):\n",
    "        # if the word is one of the stopwords (generic question articulators) ignore it\n",
    "        if (word not in ('?', ':', '.', ',' \"'s\")) and (word not in stopwords.words('english')):\n",
    "            tokenizedWords.append(stemmer.stem(word))\n",
    "    return tokenizedWords"
   ]
  },
  {
   "cell_type": "code",
   "execution_count": 4,
   "metadata": {
    "scrolled": true
   },
   "outputs": [
    {
     "data": {
      "text/plain": [
       "['original_language',\n",
       " 'person_name',\n",
       " 'revenue',\n",
       " 'spoken_language',\n",
       " 'runtime',\n",
       " 'actor_name',\n",
       " 'genre',\n",
       " 'release_date',\n",
       " 'production_country',\n",
       " 'original_title',\n",
       " 'vote_avg',\n",
       " 'production_company',\n",
       " 'overview',\n",
       " 'budget',\n",
       " 'keyword',\n",
       " 'character_name']"
      ]
     },
     "execution_count": 4,
     "metadata": {},
     "output_type": "execute_result"
    }
   ],
   "source": [
    "categories_list = list(set(categories_training_solutions))\n",
    "categories_list"
   ]
  },
  {
   "cell_type": "code",
   "execution_count": 5,
   "metadata": {},
   "outputs": [
    {
     "data": {
      "text/plain": [
       "(208, 392)"
      ]
     },
     "execution_count": 5,
     "metadata": {},
     "output_type": "execute_result"
    }
   ],
   "source": [
    "#Text preprocessing, tokenizing and filtering of stopwords are all included in CountVectorizer, which builds a dictionary of features and transforms documents to feature vectors:\n",
    "\n",
    "from sklearn.feature_extraction.text import CountVectorizer\n",
    "count_vect = CountVectorizer()\n",
    "X_question_counts = count_vect.fit_transform(questions_list)\n",
    "X_question_counts.shape"
   ]
  },
  {
   "cell_type": "code",
   "execution_count": 6,
   "metadata": {},
   "outputs": [
    {
     "data": {
      "text/plain": [
       "(208, 392)"
      ]
     },
     "execution_count": 6,
     "metadata": {},
     "output_type": "execute_result"
    }
   ],
   "source": [
    "#Term Frequency times Inverse Document Frequency\n",
    "\n",
    "from sklearn.feature_extraction.text import TfidfTransformer\n",
    "tf_transformer = TfidfTransformer(use_idf=False).fit(X_question_counts)\n",
    "X_question_tf = tf_transformer.transform(X_question_counts)\n",
    "X_question_tf.shape"
   ]
  },
  {
   "cell_type": "code",
   "execution_count": 7,
   "metadata": {},
   "outputs": [
    {
     "data": {
      "text/plain": [
       "(208, 392)"
      ]
     },
     "execution_count": 7,
     "metadata": {},
     "output_type": "execute_result"
    }
   ],
   "source": [
    "#Prepare data to fit the estimator\n",
    "tfidf_transformer = TfidfTransformer()\n",
    "X_question_tfidf = tfidf_transformer.fit_transform(X_question_counts)\n",
    "X_question_tfidf.shape"
   ]
  },
  {
   "cell_type": "code",
   "execution_count": 8,
   "metadata": {},
   "outputs": [],
   "source": [
    "### TRAINING CLASSIFIER ###\n",
    "from sklearn.naive_bayes import MultinomialNB\n",
    "clf = MultinomialNB().fit(X_question_tfidf, categories_training_solutions)"
   ]
  },
  {
   "cell_type": "code",
   "execution_count": 9,
   "metadata": {},
   "outputs": [
    {
     "data": {
      "text/plain": [
       "array(['original_title'], dtype='<U18')"
      ]
     },
     "execution_count": 9,
     "metadata": {},
     "output_type": "execute_result"
    }
   ],
   "source": [
    "#Predict test\n",
    "docs_new = ['What budget do I own?']\n",
    "X_new_counts = count_vect.transform(docs_new)\n",
    "X_new_tfidf = tfidf_transformer.transform(X_new_counts)\n",
    "\n",
    "predicted = clf.predict(X_new_tfidf)\n",
    "predicted"
   ]
  },
  {
   "cell_type": "code",
   "execution_count": 10,
   "metadata": {},
   "outputs": [
    {
     "ename": "NameError",
     "evalue": "name 'nltk' is not defined",
     "output_type": "error",
     "traceback": [
      "\u001b[0;31m---------------------------------------------------------------------------\u001b[0m",
      "\u001b[0;31mNameError\u001b[0m                                 Traceback (most recent call last)",
      "\u001b[0;32m<ipython-input-10-bead11863d82>\u001b[0m in \u001b[0;36m<module>\u001b[0;34m()\u001b[0m\n\u001b[1;32m      1\u001b[0m \u001b[0;32mfrom\u001b[0m \u001b[0mnltk\u001b[0m\u001b[0;34m.\u001b[0m\u001b[0mcorpus\u001b[0m \u001b[0;32mimport\u001b[0m \u001b[0mstopwords\u001b[0m\u001b[0;34m\u001b[0m\u001b[0m\n\u001b[0;32m----> 2\u001b[0;31m \u001b[0mtokenizePhrase\u001b[0m\u001b[0;34m(\u001b[0m\u001b[0;34m\"What is my role in this project?\"\u001b[0m\u001b[0;34m)\u001b[0m\u001b[0;34m\u001b[0m\u001b[0m\n\u001b[0m",
      "\u001b[0;32m<ipython-input-3-8abc30a1245c>\u001b[0m in \u001b[0;36mtokenizePhrase\u001b[0;34m(question)\u001b[0m\n\u001b[1;32m     14\u001b[0m     \u001b[0mstemmer\u001b[0m \u001b[0;34m=\u001b[0m \u001b[0mLancasterStemmer\u001b[0m\u001b[0;34m(\u001b[0m\u001b[0;34m)\u001b[0m\u001b[0;34m\u001b[0m\u001b[0m\n\u001b[1;32m     15\u001b[0m     \u001b[0mtokenizedWords\u001b[0m\u001b[0;34m=\u001b[0m\u001b[0;34m[\u001b[0m\u001b[0;34m]\u001b[0m\u001b[0;34m\u001b[0m\u001b[0m\n\u001b[0;32m---> 16\u001b[0;31m     \u001b[0;32mfor\u001b[0m \u001b[0mword\u001b[0m \u001b[0;32min\u001b[0m \u001b[0mnltk\u001b[0m\u001b[0;34m.\u001b[0m\u001b[0mword_tokenize\u001b[0m\u001b[0;34m(\u001b[0m\u001b[0mquestion\u001b[0m\u001b[0;34m)\u001b[0m\u001b[0;34m:\u001b[0m\u001b[0;34m\u001b[0m\u001b[0m\n\u001b[0m\u001b[1;32m     17\u001b[0m         \u001b[0;31m# if the word is one of the stopwords (generic question articulators) ignore it\u001b[0m\u001b[0;34m\u001b[0m\u001b[0;34m\u001b[0m\u001b[0m\n\u001b[1;32m     18\u001b[0m         \u001b[0;32mif\u001b[0m \u001b[0;34m(\u001b[0m\u001b[0mword\u001b[0m \u001b[0;32mnot\u001b[0m \u001b[0;32min\u001b[0m \u001b[0;34m(\u001b[0m\u001b[0;34m'?'\u001b[0m\u001b[0;34m,\u001b[0m \u001b[0;34m':'\u001b[0m\u001b[0;34m,\u001b[0m \u001b[0;34m'.'\u001b[0m\u001b[0;34m,\u001b[0m \u001b[0;34m','\u001b[0m \u001b[0;34m\"'s\"\u001b[0m\u001b[0;34m)\u001b[0m\u001b[0;34m)\u001b[0m \u001b[0;32mand\u001b[0m \u001b[0;34m(\u001b[0m\u001b[0mword\u001b[0m \u001b[0;32mnot\u001b[0m \u001b[0;32min\u001b[0m \u001b[0mstopwords\u001b[0m\u001b[0;34m.\u001b[0m\u001b[0mwords\u001b[0m\u001b[0;34m(\u001b[0m\u001b[0;34m'english'\u001b[0m\u001b[0;34m)\u001b[0m\u001b[0;34m)\u001b[0m\u001b[0;34m:\u001b[0m\u001b[0;34m\u001b[0m\u001b[0m\n",
      "\u001b[0;31mNameError\u001b[0m: name 'nltk' is not defined"
     ]
    }
   ],
   "source": [
    "from nltk.corpus import stopwords\n",
    "tokenizePhrase(\"What is my role in this project?\")"
   ]
  },
  {
   "cell_type": "code",
   "execution_count": 11,
   "metadata": {},
   "outputs": [],
   "source": [
    "from sklearn.pipeline import Pipeline\n",
    "text_clf = Pipeline([('vect', CountVectorizer()),\n",
    "                     ('tfidf', TfidfTransformer()),\n",
    "                     ('clf', MultinomialNB()),\n",
    "])"
   ]
  },
  {
   "cell_type": "code",
   "execution_count": 12,
   "metadata": {},
   "outputs": [
    {
     "data": {
      "text/plain": [
       "Pipeline(memory=None,\n",
       "     steps=[('vect', CountVectorizer(analyzer='word', binary=False, decode_error='strict',\n",
       "        dtype=<class 'numpy.int64'>, encoding='utf-8', input='content',\n",
       "        lowercase=True, max_df=1.0, max_features=None, min_df=1,\n",
       "        ngram_range=(1, 1), preprocessor=None, stop_words=None,\n",
       "        strip...inear_tf=False, use_idf=True)), ('clf', MultinomialNB(alpha=1.0, class_prior=None, fit_prior=True))])"
      ]
     },
     "execution_count": 12,
     "metadata": {},
     "output_type": "execute_result"
    }
   ],
   "source": [
    "text_clf.fit(questions_list, categories_training_solutions)"
   ]
  },
  {
   "cell_type": "code",
   "execution_count": 13,
   "metadata": {},
   "outputs": [
    {
     "data": {
      "text/plain": [
       "0.4807692307692308"
      ]
     },
     "execution_count": 13,
     "metadata": {},
     "output_type": "execute_result"
    }
   ],
   "source": [
    "import numpy as np\n",
    "docs_test = questions_list\n",
    "predicted = text_clf.predict(docs_test)\n",
    "np.mean(predicted == categories_training_solutions) "
   ]
  },
  {
   "cell_type": "code",
   "execution_count": 14,
   "metadata": {},
   "outputs": [],
   "source": [
    "#Lets load the testing sets\n",
    "testing_questions_list = []\n",
    "with open(\"corpora/NovasQuestoes.txt\") as testing_corpus:\n",
    "        for line in testing_corpus:\n",
    "            question = line.rstrip()\n",
    "            testing_questions_list.append(question)\n",
    "\n",
    "testing_solutions_list = []\n",
    "with open(\"corpora/NovasQuestoesResultados.txt\") as testing_solutions_corpus:\n",
    "        for line in testing_solutions_corpus:\n",
    "            category = line.rstrip()\n",
    "            testing_solutions_list.append(category)"
   ]
  },
  {
   "cell_type": "code",
   "execution_count": 15,
   "metadata": {},
   "outputs": [
    {
     "data": {
      "text/plain": [
       "0.6666666666666666"
      ]
     },
     "execution_count": 15,
     "metadata": {},
     "output_type": "execute_result"
    }
   ],
   "source": [
    "#Let’s see if we can do better with a linear support vector machine (SVM), which is widely regarded as one of \n",
    "#the best text classification algorithms (although it’s also a bit slower than naïve Bayes).\n",
    "#We can change the learner by simply plugging a different classifier object into our pipeline:\n",
    "#original hinge\n",
    "\n",
    "from sklearn.linear_model import SGDClassifier\n",
    "text_clf = Pipeline([('vect', CountVectorizer()),\n",
    "                     ('tfidf', TfidfTransformer()),\n",
    "                     ('clf', SGDClassifier(loss='hinge', penalty='l2',\n",
    "                                           alpha=1e-3, random_state=42,\n",
    "                                           max_iter=5, tol=None)),\n",
    "])\n",
    "text_clf.fit(questions_list, categories_training_solutions)  \n",
    "\n",
    "predicted = text_clf.predict(testing_questions_list)\n",
    "np.mean(predicted == testing_solutions_list)"
   ]
  },
  {
   "cell_type": "code",
   "execution_count": 16,
   "metadata": {},
   "outputs": [
    {
     "data": {
      "text/plain": [
       "0.9523809523809523"
      ]
     },
     "execution_count": 16,
     "metadata": {},
     "output_type": "execute_result"
    }
   ],
   "source": [
    "text_clf = Pipeline([('vect', CountVectorizer()),\n",
    "                     ('tfidf', TfidfTransformer()),\n",
    "                     ('clf', SGDClassifier(loss='epsilon_insensitive', penalty='l2',\n",
    "                                           alpha=1e-3, random_state=42,\n",
    "                                           max_iter=5, tol=None)),\n",
    "])\n",
    "text_clf.fit(questions_list, categories_training_solutions)  \n",
    "\n",
    "predicted = text_clf.predict(testing_questions_list)\n",
    "np.mean(predicted == testing_solutions_list)"
   ]
  },
  {
   "cell_type": "code",
   "execution_count": 21,
   "metadata": {},
   "outputs": [
    {
     "data": {
      "text/plain": [
       "0.9523809523809523"
      ]
     },
     "execution_count": 21,
     "metadata": {},
     "output_type": "execute_result"
    }
   ],
   "source": [
    "from sklearn.feature_extraction.text import HashingVectorizer\n",
    "text_clf = Pipeline([('vect', HashingVectorizer(analyzer='word')),\n",
    "                     ('tfidf', TfidfTransformer()),\n",
    "                     ('clf', SGDClassifier(loss='epsilon_insensitive', penalty='l2',\n",
    "                                           alpha=1e-3, random_state=42,\n",
    "                                           max_iter=5, tol=None)),\n",
    "])\n",
    "text_clf.fit(questions_list, categories_training_solutions)  \n",
    "\n",
    "predicted = text_clf.predict(testing_questions_list)\n",
    "np.mean(predicted == testing_solutions_list)"
   ]
  },
  {
   "cell_type": "code",
   "execution_count": 18,
   "metadata": {},
   "outputs": [
    {
     "data": {
      "text/plain": [
       "'runtime'"
      ]
     },
     "execution_count": 18,
     "metadata": {},
     "output_type": "execute_result"
    }
   ],
   "source": [
    "manual_test = [\"How long does Regateiro teaches?\"]\n",
    "text_clf.predict(manual_test)[0]"
   ]
  },
  {
   "cell_type": "code",
   "execution_count": null,
   "metadata": {},
   "outputs": [],
   "source": []
  },
  {
   "cell_type": "code",
   "execution_count": 19,
   "metadata": {},
   "outputs": [
    {
     "name": "stdout",
     "output_type": "stream",
     "text": [
      "KNeighborsClassifier: 0.8333333333333334\n",
      "SVC linear: 0.0\n",
      "SVC gamma: 0.16666666666666666\n",
      "DecisionTreeClassifier: 0.9047619047619048\n",
      "RandomForestClassifier: 0.7857142857142857\n"
     ]
    },
    {
     "name": "stderr",
     "output_type": "stream",
     "text": [
      "/opt/anaconda3/lib/python3.7/site-packages/sklearn/ensemble/weight_boosting.py:29: DeprecationWarning: numpy.core.umath_tests is an internal NumPy module and should not be imported. It will be removed in a future NumPy release.\n",
      "  from numpy.core.umath_tests import inner1d\n"
     ]
    }
   ],
   "source": [
    "from sklearn.neighbors import KNeighborsClassifier\n",
    "from sklearn.svm import SVC\n",
    "from sklearn.tree import DecisionTreeClassifier\n",
    "from sklearn.ensemble import RandomForestClassifier\n",
    "#CLASSIFIERS TEST\n",
    "classifiers = []\n",
    "classifiers.append((\"KNeighborsClassifier\", KNeighborsClassifier(3)))\n",
    "classifiers.append((\"SVC linear\", SVC(kernel=\"linear\", C=0.025)))\n",
    "classifiers.append((\"SVC gamma\", SVC(gamma=2, C=1)))\n",
    "classifiers.append((\"DecisionTreeClassifier\", DecisionTreeClassifier()))\n",
    "classifiers.append((\"RandomForestClassifier\", RandomForestClassifier()))\n",
    "\n",
    "\n",
    "for (name, classifier) in classifiers:\n",
    "    text_clf2 = Pipeline([('vect', CountVectorizer()),\n",
    "                         ('tfidf', TfidfTransformer()),\n",
    "                         ('clf', classifier),])\n",
    "    text_clf2.fit(questions_list, categories_training_solutions)  \n",
    "\n",
    "    predicted = text_clf2.predict(testing_questions_list)\n",
    "    print(\"{}: {}\".format(name, np.mean(predicted == testing_solutions_list)))"
   ]
  },
  {
   "cell_type": "code",
   "execution_count": 20,
   "metadata": {},
   "outputs": [
    {
     "name": "stdout",
     "output_type": "stream",
     "text": [
      "EI l2: 0.9523809523809523\n",
      "EI l1: 0.7857142857142857\n",
      "EI learningrate: 0.8809523809523809\n",
      "EI constant: 0.7857142857142857\n"
     ]
    }
   ],
   "source": [
    "from sklearn.neighbors import KNeighborsClassifier\n",
    "from sklearn.svm import SVC\n",
    "from sklearn.tree import DecisionTreeClassifier\n",
    "from sklearn.ensemble import RandomForestClassifier\n",
    "from sklearn.linear_model import SGDRegressor\n",
    "#CLASSIFIERS TEST for SGD\n",
    "classifiers = []\n",
    "classifiers.append((\"EI l2\", SGDClassifier(loss='epsilon_insensitive', penalty='l2',\n",
    "                                           alpha=1e-3, random_state=42,\n",
    "                                           max_iter=5, tol=None)))\n",
    "classifiers.append((\"EI l1\", SGDClassifier(loss='epsilon_insensitive', penalty='l1',\n",
    "                                           alpha=1e-3, random_state=42,\n",
    "                                           max_iter=5, tol=None)))\n",
    "classifiers.append((\"EI learningrate\", SGDClassifier(loss='epsilon_insensitive', penalty='l2',\n",
    "                                           alpha=1e-3, random_state=42,\n",
    "                                           max_iter=5, tol=None, learning_rate=\"invscaling\", eta0=6)))\n",
    "classifiers.append((\"EI constant\", SGDClassifier(loss='epsilon_insensitive', penalty='l2',\n",
    "                                           alpha=1e-3, random_state=42,\n",
    "                                           max_iter=5, tol=None, learning_rate=\"constant\", eta0=2)))\n",
    "\n",
    "\n",
    "for (name, classifier) in classifiers:\n",
    "    text_clf2 = Pipeline([('vect', CountVectorizer()),\n",
    "                         ('tfidf', TfidfTransformer()),\n",
    "                         ('clf', classifier),])\n",
    "    text_clf2.fit(questions_list, categories_training_solutions)  \n",
    "\n",
    "    predicted = text_clf2.predict(testing_questions_list)\n",
    "    print(\"{}: {}\".format(name, np.mean(predicted == testing_solutions_list)))"
   ]
  },
  {
   "cell_type": "code",
   "execution_count": null,
   "metadata": {},
   "outputs": [],
   "source": []
  },
  {
   "cell_type": "code",
   "execution_count": null,
   "metadata": {},
   "outputs": [],
   "source": []
  },
  {
   "cell_type": "code",
   "execution_count": null,
   "metadata": {},
   "outputs": [],
   "source": []
  }
 ],
 "metadata": {
  "kernelspec": {
   "display_name": "Python 3",
   "language": "python",
   "name": "python3"
  },
  "language_info": {
   "codemirror_mode": {
    "name": "ipython",
    "version": 3
   },
   "file_extension": ".py",
   "mimetype": "text/x-python",
   "name": "python",
   "nbconvert_exporter": "python",
   "pygments_lexer": "ipython3",
   "version": "3.7.0"
  }
 },
 "nbformat": 4,
 "nbformat_minor": 2
}
